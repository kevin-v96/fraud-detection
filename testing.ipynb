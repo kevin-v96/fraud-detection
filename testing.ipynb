{
 "cells": [
  {
   "cell_type": "code",
   "execution_count": 81,
   "id": "24dd2631",
   "metadata": {},
   "outputs": [],
   "source": [
    "import pandas as pd\n",
    "import numpy as np\n",
    "from sklearn.ensemble import IsolationForest"
   ]
  },
  {
   "cell_type": "code",
   "execution_count": 82,
   "id": "288ab0af",
   "metadata": {},
   "outputs": [
    {
     "name": "stdout",
     "output_type": "stream",
     "text": [
      "                                      instances\n",
      "0  {'features': [0, 0, 0, 0, 0, 0, 0, 0, 0, 0]}\n",
      "1  {'features': [0, 0, 0, 0, 0, 0, 0, 0, 0, 0]}\n",
      "2  {'features': [0, 0, 0, 0, 0, 0, 0, 0, 0, 0]}\n",
      "3  {'features': [0, 0, 0, 0, 0, 0, 0, 0, 0, 0]}\n",
      "4  {'features': [0, 0, 0, 0, 0, 0, 0, 0, 0, 0]}\n"
     ]
    }
   ],
   "source": [
    "df = pd.DataFrame(columns=[\"instances\"], index=range(1800))\n",
    "\n",
    "# use apply to create a dictionary with \"features\" key and an array of 10 zeroes as its value for each row\n",
    "df[\"instances\"] = df.apply(lambda x: {\"features\": [0]*10}, axis=1)\n",
    "\n",
    "# print the resulting dataframe\n",
    "print(df.head())"
   ]
  },
  {
   "cell_type": "code",
   "execution_count": 85,
   "id": "52ac1a29",
   "metadata": {},
   "outputs": [],
   "source": [
    "train_data = df"
   ]
  },
  {
   "cell_type": "code",
   "execution_count": 137,
   "id": "91f630a8",
   "metadata": {},
   "outputs": [
    {
     "data": {
      "text/html": [
       "<div>\n",
       "<style scoped>\n",
       "    .dataframe tbody tr th:only-of-type {\n",
       "        vertical-align: middle;\n",
       "    }\n",
       "\n",
       "    .dataframe tbody tr th {\n",
       "        vertical-align: top;\n",
       "    }\n",
       "\n",
       "    .dataframe thead th {\n",
       "        text-align: right;\n",
       "    }\n",
       "</style>\n",
       "<table border=\"1\" class=\"dataframe\">\n",
       "  <thead>\n",
       "    <tr style=\"text-align: right;\">\n",
       "      <th></th>\n",
       "      <th>instances</th>\n",
       "    </tr>\n",
       "  </thead>\n",
       "  <tbody>\n",
       "    <tr>\n",
       "      <th>0</th>\n",
       "      <td>{'features': [1, 2, 3]}</td>\n",
       "    </tr>\n",
       "  </tbody>\n",
       "</table>\n",
       "</div>"
      ],
      "text/plain": [
       "                 instances\n",
       "0  {'features': [1, 2, 3]}"
      ]
     },
     "execution_count": 137,
     "metadata": {},
     "output_type": "execute_result"
    }
   ],
   "source": [
    "data = {'instances': [{'features': [1, 2, 3]}]}\n",
    "df = pd.DataFrame(data)\n",
    "df"
   ]
  },
  {
   "cell_type": "code",
   "execution_count": 138,
   "id": "76225b5c",
   "metadata": {},
   "outputs": [],
   "source": [
    "train_data = df"
   ]
  },
  {
   "cell_type": "code",
   "execution_count": 139,
   "id": "03d91fc6",
   "metadata": {},
   "outputs": [],
   "source": [
    "#if True:\n",
    "    #train_data = [ train_data ]\n",
    "    #train_data = pd.concat(train_data)\n",
    "    #train_data = [ train_data ]\n",
    "    #print(train_data)\n",
    "    #print(type(train_data))\n",
    "\n",
    "features_list = train_data[\"instances\"]\n",
    "features = [f[\"features\"] for f in features_list]\n",
    "original_features = pd.DataFrame(np.array(features))"
   ]
  },
  {
   "cell_type": "code",
   "execution_count": 135,
   "id": "31e6a88d",
   "metadata": {},
   "outputs": [
    {
     "data": {
      "text/html": [
       "<div>\n",
       "<style scoped>\n",
       "    .dataframe tbody tr th:only-of-type {\n",
       "        vertical-align: middle;\n",
       "    }\n",
       "\n",
       "    .dataframe tbody tr th {\n",
       "        vertical-align: top;\n",
       "    }\n",
       "\n",
       "    .dataframe thead th {\n",
       "        text-align: right;\n",
       "    }\n",
       "</style>\n",
       "<table border=\"1\" class=\"dataframe\">\n",
       "  <thead>\n",
       "    <tr style=\"text-align: right;\">\n",
       "      <th></th>\n",
       "      <th>0</th>\n",
       "      <th>1</th>\n",
       "      <th>2</th>\n",
       "    </tr>\n",
       "  </thead>\n",
       "  <tbody>\n",
       "    <tr>\n",
       "      <th>0</th>\n",
       "      <td>1</td>\n",
       "      <td>2</td>\n",
       "      <td>3</td>\n",
       "    </tr>\n",
       "  </tbody>\n",
       "</table>\n",
       "</div>"
      ],
      "text/plain": [
       "   0  1  2\n",
       "0  1  2  3"
      ]
     },
     "execution_count": 135,
     "metadata": {},
     "output_type": "execute_result"
    }
   ],
   "source": [
    "original_features"
   ]
  },
  {
   "cell_type": "code",
   "execution_count": null,
   "id": "051a7c40",
   "metadata": {},
   "outputs": [],
   "source": []
  }
 ],
 "metadata": {
  "kernelspec": {
   "display_name": "Python 3 (ipykernel)",
   "language": "python",
   "name": "python3"
  },
  "language_info": {
   "codemirror_mode": {
    "name": "ipython",
    "version": 3
   },
   "file_extension": ".py",
   "mimetype": "text/x-python",
   "name": "python",
   "nbconvert_exporter": "python",
   "pygments_lexer": "ipython3",
   "version": "3.9.13"
  }
 },
 "nbformat": 4,
 "nbformat_minor": 5
}
